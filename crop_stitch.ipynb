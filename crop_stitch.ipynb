{
 "cells": [
  {
   "cell_type": "markdown",
   "metadata": {},
   "source": [
    "# import libraries and trained model"
   ]
  },
  {
   "cell_type": "code",
   "execution_count": null,
   "metadata": {},
   "outputs": [],
   "source": [
    "import os\n",
    "from os import listdir\n",
    "from os.path import isfile, join\n",
    "import numpy as np\n",
    "from keras.models import load_model\n",
    "from skimage.io import imread"
   ]
  },
  {
   "cell_type": "markdown",
   "metadata": {},
   "source": [
    "# define constants"
   ]
  },
  {
   "cell_type": "code",
   "execution_count": null,
   "metadata": {},
   "outputs": [],
   "source": [
    "IM_PATH = './ec/' # path containing all input images\n",
    "OUT_PATH = './Color_results/' # output path\n",
    "os.mkdir(OUT_PATH) #if folder is already present, then comment out this line\n",
    "NUM_CLASSES = 4\n",
    "model = load_model('ecDNA_model.h5')"
   ]
  },
  {
   "cell_type": "markdown",
   "metadata": {},
   "source": [
    "# Crop into patches and stitch back together"
   ]
  },
  {
   "cell_type": "code",
   "execution_count": null,
   "metadata": {},
   "outputs": [],
   "source": [
    "onlyfiles = [f for f in listdir(IM_PATH) if isfile(join(IM_PATH, f))]\n",
    "for i in onlyfiles:\n",
    "    img = IM_PATH + i\n",
    "    img = imread(img)\n",
    "    print(i)\n",
    "    name = OUT_PATH +i\n",
    "    crops = []\n",
    "    y = 1\n",
    "    x = 1\n",
    "    dim = 256\n",
    "    shape = img.shape\n",
    "    vcrop = int(shape[0]/256)\n",
    "    hcrop = int(shape[1]/256)\n",
    "    #image[70:170, 440:540]\n",
    "    for a in range(0,5):\n",
    "        y = 1\n",
    "        for k in range(0,4):\n",
    "            train = img[y:y+dim, x:x+dim]\n",
    "            crops.append(train)\n",
    "            y = y+dim\n",
    "        x = x+dim\n",
    "    pred = []   \n",
    "    for i in range(0,len(crops)):\n",
    "        x = np.expand_dims(crops[i], axis=0)\n",
    "        comb_pred = np.squeeze(model.predict(x, verbose=0))\n",
    "        pred.append(comb_pred)\n",
    "    stitched_im = np.ones((256*vcrop,1,NUM_CLASSES))\n",
    "    index = -1\n",
    "    for j in range (1,hcrop+1):\n",
    "        index = index +1\n",
    "        if(index >=hcrop*vcrop):\n",
    "            break\n",
    "        row = pred[index]\n",
    "        for k in range(1,vcrop):\n",
    "            index = index + 1\n",
    "            I = pred[index]\n",
    "            row = np.vstack((row, I))\n",
    "        stitched_im = np.hstack((stitched_im, row))\n",
    "    stitched_im = stitched_im[:, 1:, :]\n",
    "    np.save(name, stitched_im)"
   ]
  }
 ],
 "metadata": {
  "kernelspec": {
   "display_name": "Python 3",
   "language": "python",
   "name": "python3"
  },
  "language_info": {
   "codemirror_mode": {
    "name": "ipython",
    "version": 3
   },
   "file_extension": ".py",
   "mimetype": "text/x-python",
   "name": "python",
   "nbconvert_exporter": "python",
   "pygments_lexer": "ipython3",
   "version": "3.6.7"
  }
 },
 "nbformat": 4,
 "nbformat_minor": 2
}
